{
  "nbformat": 4,
  "nbformat_minor": 0,
  "metadata": {
    "kernelspec": {
      "display_name": "Python 3",
      "language": "python",
      "name": "python3"
    },
    "language_info": {
      "codemirror_mode": {
        "name": "ipython",
        "version": 3
      },
      "file_extension": ".py",
      "mimetype": "text/x-python",
      "name": "python",
      "nbconvert_exporter": "python",
      "pygments_lexer": "ipython3",
      "version": "3.7.3"
    },
    "colab": {
      "name": "Concrete Strength Assignment.ipynb",
      "provenance": [],
      "toc_visible": true
    }
  },
  "cells": [
    {
      "cell_type": "markdown",
      "metadata": {
        "id": "Llhcy9XT0EQa"
      },
      "source": [
        "# Assignment: Compresive Strength Concrete Problem\n",
        "\n",
        "\n",
        "### Abstract: \n",
        "\n",
        "Concrete is the most important material in civil engineering. The concrete compressive strength (concrete strength to bear the load) is a highly nonlinear function of age and ingredients.  <br><br>\n",
        "\n",
        "<table border=\"1\"  cellpadding=\"6\" bordercolor=\"red\">\n",
        "\t<tbody>\n",
        "        <tr>\n",
        "\t\t<td bgcolor=\"#DDEEFF\"><p class=\"normal\"><b>Data Set Characteristics:&nbsp;&nbsp;</b></p></td>\n",
        "\t\t<td><p class=\"normal\">Multivariate</p></td>\n",
        "\t\t<td bgcolor=\"#DDEEFF\"><p class=\"normal\"><b>Number of Instances:</b></p></td>\n",
        "\t\t<td><p class=\"normal\">1030</p></td>\n",
        "\t\t<td bgcolor=\"#DDEEFF\"><p class=\"normal\"><b>Area:</b></p></td>\n",
        "\t\t<td><p class=\"normal\">Physical</p></td>\n",
        "        </tr>\n",
        "     </tbody>\n",
        "    </table>\n",
        "<table border=\"1\" cellpadding=\"6\">\n",
        "    <tbody>\n",
        "        <tr>\n",
        "            <td bgcolor=\"#DDEEFF\"><p class=\"normal\"><b>Attribute Characteristics:</b></p></td>\n",
        "            <td><p class=\"normal\">Real</p></td>\n",
        "            <td bgcolor=\"#DDEEFF\"><p class=\"normal\"><b>Number of Attributes:</b></p></td>\n",
        "            <td><p class=\"normal\">9</p></td>\n",
        "            <td bgcolor=\"#DDEEFF\"><p class=\"normal\"><b>Date Donated</b></p></td>\n",
        "            <td><p class=\"normal\">2007-08-03</p></td>\n",
        "        </tr>\n",
        "     </tbody>\n",
        "    </table>\n",
        "<table border=\"1\" cellpadding=\"6\">\t\n",
        "    <tbody>\n",
        "    <tr>\n",
        "\t\t<td bgcolor=\"#DDEEFF\"><p class=\"normal\"><b>Associated Tasks:</b></p></td>\n",
        "\t\t<td><p class=\"normal\">Regression</p></td>\n",
        "\t\t<td bgcolor=\"#DDEEFF\"><p class=\"normal\"><b>Missing Values?</b></p></td>\n",
        "\t\t<td><p class=\"normal\">N/A</p></td>\n",
        "\t\t<td bgcolor=\"#DDEEFF\"><p class=\"normal\"><b>Number of Web Hits:</b></p></td>\n",
        "\t\t<td><p class=\"normal\">231464</p></td>\n",
        "\t</tr>\n",
        "    </tbody>\n",
        "    </table>"
      ]
    },
    {
      "cell_type": "markdown",
      "metadata": {
        "id": "jjfKv3O90EQu"
      },
      "source": [
        "###  Description:\n",
        "| Features Name | Data Type | Measurement | Description |\n",
        "| -- | -- | -- | -- |\n",
        "Cement (component 1) | quantitative | kg in a m3 mixture | Input Variable\n",
        "Blast Furnace Slag (component 2) | quantitative | kg in a m3 mixture | Input Variable\n",
        "Fly Ash (component 3) | quantitative | kg in a m3 mixture | Input Variable\n",
        "Water (component 4) | quantitative | kg in a m3 mixture | Input Variable\n",
        "Superplasticizer (component 5) | quantitative | kg in a m3 mixture | Input Variable\n",
        "Coarse Aggregate (component 6) | quantitative | kg in a m3 mixture | Input Variable\n",
        "Fine Aggregate (component 7) | quantitative | kg in a m3 mixture | Input Variable\n",
        "Age | quantitative | Day (1~365) | Input Variable\n",
        "Concrete compressive strength | quantitative | MPa | Output Variable\n",
        "\n",
        "### WORKFLOW :\n",
        "- Load Data\n",
        "- Check Missing Values ( If Exist ; Fill each record with mean of its feature )\n",
        "- Standardized the Input Variables. **Hint**: Centeralized the data\n",
        "- Split into 50% Training(Samples,Labels) , 30% Test(Samples,Labels) and 20% Validation Data(Samples,Labels).\n",
        "- Model : input Layer (No. of features ), 3 hidden layers including 10,8,6 unit & Output Layer with activation function relu/tanh (check by experiment).\n",
        "- Compilation Step (Note : Its a Regression problem , select loss , metrics according to it)\n",
        "- Train the Model with Epochs (100) and validate it\n",
        "- If the model gets overfit tune your model by changing the units , No. of layers , activation function , epochs , add dropout layer or add Regularizer according to the need .\n",
        "- Evaluation Step\n",
        "- Prediction\n"
      ]
    },
    {
      "cell_type": "markdown",
      "metadata": {
        "id": "WzLJbpb-0EQy"
      },
      "source": [
        "# Load Data:\n",
        "[Click Here to Download DataSet](https://github.com/ramsha275/ML_Datasets/blob/main/compresive_strength_concrete.csv)"
      ]
    },
    {
      "cell_type": "code",
      "metadata": {
        "id": "aKflFxh50EQz"
      },
      "source": [
        "import matplotlib.pyplot as plt\n",
        "import numpy as np\n",
        "import pandas as pd\n",
        "from sklearn.model_selection import train_test_split\n",
        "from sklearn.preprocessing import MinMaxScaler\n",
        "## Keras Model\n",
        "from keras.models import Sequential\n",
        "from keras.layers import Dense\n",
        "from keras.layers import Dropout\n",
        "from keras import regularizers"
      ],
      "execution_count": null,
      "outputs": []
    },
    {
      "cell_type": "code",
      "metadata": {
        "id": "0xIEgOMh00_n"
      },
      "source": [
        "df = pd.read_csv('/content/compresive_strength_concrete.csv')"
      ],
      "execution_count": null,
      "outputs": []
    },
    {
      "cell_type": "markdown",
      "metadata": {
        "id": "2vdhThyCh1IX"
      },
      "source": [
        "# Display Data"
      ]
    },
    {
      "cell_type": "code",
      "metadata": {
        "colab": {
          "base_uri": "https://localhost:8080/",
          "height": 238
        },
        "id": "1wV3ZFmKh1y-",
        "outputId": "180e38d2-f95d-4faf-a021-5c6d7e691de3"
      },
      "source": [
        "df.head()"
      ],
      "execution_count": null,
      "outputs": [
        {
          "output_type": "execute_result",
          "data": {
            "text/html": [
              "<div>\n",
              "<style scoped>\n",
              "    .dataframe tbody tr th:only-of-type {\n",
              "        vertical-align: middle;\n",
              "    }\n",
              "\n",
              "    .dataframe tbody tr th {\n",
              "        vertical-align: top;\n",
              "    }\n",
              "\n",
              "    .dataframe thead th {\n",
              "        text-align: right;\n",
              "    }\n",
              "</style>\n",
              "<table border=\"1\" class=\"dataframe\">\n",
              "  <thead>\n",
              "    <tr style=\"text-align: right;\">\n",
              "      <th></th>\n",
              "      <th>Cement (component 1)(kg in a m^3 mixture)</th>\n",
              "      <th>Blast Furnace Slag (component 2)(kg in a m^3 mixture)</th>\n",
              "      <th>Fly Ash (component 3)(kg in a m^3 mixture)</th>\n",
              "      <th>Water  (component 4)(kg in a m^3 mixture)</th>\n",
              "      <th>Superplasticizer (component 5)(kg in a m^3 mixture)</th>\n",
              "      <th>Coarse Aggregate  (component 6)(kg in a m^3 mixture)</th>\n",
              "      <th>Fine Aggregate (component 7)(kg in a m^3 mixture)</th>\n",
              "      <th>Age (day)</th>\n",
              "      <th>Concrete compressive strength(MPa, megapascals)</th>\n",
              "    </tr>\n",
              "  </thead>\n",
              "  <tbody>\n",
              "    <tr>\n",
              "      <th>0</th>\n",
              "      <td>540.0</td>\n",
              "      <td>0.0</td>\n",
              "      <td>0.0</td>\n",
              "      <td>162.0</td>\n",
              "      <td>2.5</td>\n",
              "      <td>1040.0</td>\n",
              "      <td>676.0</td>\n",
              "      <td>28</td>\n",
              "      <td>79.99</td>\n",
              "    </tr>\n",
              "    <tr>\n",
              "      <th>1</th>\n",
              "      <td>540.0</td>\n",
              "      <td>0.0</td>\n",
              "      <td>0.0</td>\n",
              "      <td>162.0</td>\n",
              "      <td>2.5</td>\n",
              "      <td>1055.0</td>\n",
              "      <td>676.0</td>\n",
              "      <td>28</td>\n",
              "      <td>61.89</td>\n",
              "    </tr>\n",
              "    <tr>\n",
              "      <th>2</th>\n",
              "      <td>332.5</td>\n",
              "      <td>142.5</td>\n",
              "      <td>0.0</td>\n",
              "      <td>228.0</td>\n",
              "      <td>0.0</td>\n",
              "      <td>932.0</td>\n",
              "      <td>594.0</td>\n",
              "      <td>270</td>\n",
              "      <td>40.27</td>\n",
              "    </tr>\n",
              "    <tr>\n",
              "      <th>3</th>\n",
              "      <td>332.5</td>\n",
              "      <td>142.5</td>\n",
              "      <td>0.0</td>\n",
              "      <td>228.0</td>\n",
              "      <td>0.0</td>\n",
              "      <td>932.0</td>\n",
              "      <td>594.0</td>\n",
              "      <td>365</td>\n",
              "      <td>41.05</td>\n",
              "    </tr>\n",
              "    <tr>\n",
              "      <th>4</th>\n",
              "      <td>198.6</td>\n",
              "      <td>132.4</td>\n",
              "      <td>0.0</td>\n",
              "      <td>192.0</td>\n",
              "      <td>0.0</td>\n",
              "      <td>978.4</td>\n",
              "      <td>825.5</td>\n",
              "      <td>360</td>\n",
              "      <td>44.30</td>\n",
              "    </tr>\n",
              "  </tbody>\n",
              "</table>\n",
              "</div>"
            ],
            "text/plain": [
              "   Cement (component 1)(kg in a m^3 mixture)  ...  Concrete compressive strength(MPa, megapascals) \n",
              "0                                      540.0  ...                                             79.99\n",
              "1                                      540.0  ...                                             61.89\n",
              "2                                      332.5  ...                                             40.27\n",
              "3                                      332.5  ...                                             41.05\n",
              "4                                      198.6  ...                                             44.30\n",
              "\n",
              "[5 rows x 9 columns]"
            ]
          },
          "metadata": {
            "tags": []
          },
          "execution_count": 3
        }
      ]
    },
    {
      "cell_type": "markdown",
      "metadata": {
        "id": "zBqVkIESuCjj"
      },
      "source": [
        "## Check Null Values (No Null Values in the dataset)"
      ]
    },
    {
      "cell_type": "code",
      "metadata": {
        "colab": {
          "base_uri": "https://localhost:8080/"
        },
        "id": "T0_PeugMsK45",
        "outputId": "ad02dfae-d745-4f59-ebc5-fd3b0edecce2"
      },
      "source": [
        "df.isnull().sum()  "
      ],
      "execution_count": null,
      "outputs": [
        {
          "output_type": "execute_result",
          "data": {
            "text/plain": [
              "Cement (component 1)(kg in a m^3 mixture)                0\n",
              "Blast Furnace Slag (component 2)(kg in a m^3 mixture)    0\n",
              "Fly Ash (component 3)(kg in a m^3 mixture)               0\n",
              "Water  (component 4)(kg in a m^3 mixture)                0\n",
              "Superplasticizer (component 5)(kg in a m^3 mixture)      0\n",
              "Coarse Aggregate  (component 6)(kg in a m^3 mixture)     0\n",
              "Fine Aggregate (component 7)(kg in a m^3 mixture)        0\n",
              "Age (day)                                                0\n",
              "Concrete compressive strength(MPa, megapascals)          0\n",
              "dtype: int64"
            ]
          },
          "metadata": {
            "tags": []
          },
          "execution_count": 4
        }
      ]
    },
    {
      "cell_type": "markdown",
      "metadata": {
        "id": "AB_BPFFRuwU3"
      },
      "source": [
        "## 3) Split Dataset"
      ]
    },
    {
      "cell_type": "code",
      "metadata": {
        "id": "7GFPbLxdupM9"
      },
      "source": [
        "X=df.drop(['Concrete compressive strength(MPa, megapascals) '],axis=1)\n",
        "y=df['Concrete compressive strength(MPa, megapascals) ']"
      ],
      "execution_count": null,
      "outputs": []
    },
    {
      "cell_type": "markdown",
      "metadata": {
        "id": "bYjNP0tZwp3L"
      },
      "source": [
        "## Normalization"
      ]
    },
    {
      "cell_type": "code",
      "metadata": {
        "id": "AGMw9IuPwrh1"
      },
      "source": [
        "sc = MinMaxScaler()\n",
        "X = sc.fit_transform(X)"
      ],
      "execution_count": null,
      "outputs": []
    },
    {
      "cell_type": "markdown",
      "metadata": {
        "id": "j5uLW_IQu1O0"
      },
      "source": [
        "##  50% Training(Samples,Labels) , 30% Test(Samples,Labels) and 20% Validation Data(Samples,Labels)."
      ]
    },
    {
      "cell_type": "code",
      "metadata": {
        "id": "gNu7w_wAsK46"
      },
      "source": [
        " X_train, X_test, y_train, y_test = train_test_split(X, y, test_size=0.50, random_state=1)\n",
        "\n",
        " X_train, X_val, y_train, y_val = train_test_split(X_train, y_train, test_size=0.20, random_state=1) "
      ],
      "execution_count": null,
      "outputs": []
    },
    {
      "cell_type": "markdown",
      "metadata": {
        "id": "WHJDeaOavD3T"
      },
      "source": [
        "## Model : input Layer (No. of features ), 3 hidden layers including 10,8,6 unit & Output Layer with activation function relu/tanh (check by experiment)."
      ]
    },
    {
      "cell_type": "code",
      "metadata": {
        "id": "qJ-KNyrKsK47"
      },
      "source": [
        "clf = Sequential()\n",
        "clf.add(Dense(10, activation='relu', input_dim=8))\n",
        "clf.add(Dropout(0.5)) # Dropout Layer\n",
        "clf.add(Dense(8, activation='relu'))\n",
        "clf.add(Dropout(0.5)) # Dropout Layer\n",
        "clf.add(Dense(6, activation='relu'))\n",
        "clf.add(Dense(1))"
      ],
      "execution_count": null,
      "outputs": []
    },
    {
      "cell_type": "markdown",
      "metadata": {
        "id": "ZLn8klaYyJMr"
      },
      "source": [
        "## COmpile Model"
      ]
    },
    {
      "cell_type": "code",
      "metadata": {
        "id": "6y0RJWJcyK4L"
      },
      "source": [
        "clf.compile(optimizer='rmsprop', loss='mse', metrics=['mae']) # Compiling Model"
      ],
      "execution_count": null,
      "outputs": []
    },
    {
      "cell_type": "code",
      "metadata": {
        "id": "b8NR01anxonc",
        "colab": {
          "base_uri": "https://localhost:8080/"
        },
        "outputId": "b302cea8-6d91-4a32-b4bd-cf24901eb396"
      },
      "source": [
        "history = clf.fit(X_train, y_train, epochs=100, batch_size=32, validation_data=(X_val, y_val))"
      ],
      "execution_count": null,
      "outputs": [
        {
          "output_type": "stream",
          "text": [
            "Epoch 1/100\n",
            "13/13 [==============================] - 1s 35ms/step - loss: 1652.8583 - mae: 36.8183 - val_loss: 1409.6688 - val_mae: 34.1930\n",
            "Epoch 2/100\n",
            "13/13 [==============================] - 0s 5ms/step - loss: 1563.8670 - mae: 35.9863 - val_loss: 1398.8544 - val_mae: 34.0386\n",
            "Epoch 3/100\n",
            "13/13 [==============================] - 0s 5ms/step - loss: 1572.8525 - mae: 35.9828 - val_loss: 1387.4154 - val_mae: 33.8750\n",
            "Epoch 4/100\n",
            "13/13 [==============================] - 0s 5ms/step - loss: 1605.0153 - mae: 36.4095 - val_loss: 1375.1677 - val_mae: 33.6987\n",
            "Epoch 5/100\n",
            "13/13 [==============================] - 0s 5ms/step - loss: 1512.5051 - mae: 35.2473 - val_loss: 1362.1052 - val_mae: 33.5106\n",
            "Epoch 6/100\n",
            "13/13 [==============================] - 0s 5ms/step - loss: 1457.4810 - mae: 33.9915 - val_loss: 1348.4073 - val_mae: 33.3116\n",
            "Epoch 7/100\n",
            "13/13 [==============================] - 0s 4ms/step - loss: 1473.6978 - mae: 34.4624 - val_loss: 1332.7657 - val_mae: 33.0833\n",
            "Epoch 8/100\n",
            "13/13 [==============================] - 0s 5ms/step - loss: 1506.8216 - mae: 34.8607 - val_loss: 1316.5310 - val_mae: 32.8442\n",
            "Epoch 9/100\n",
            "13/13 [==============================] - 0s 5ms/step - loss: 1517.3644 - mae: 34.8427 - val_loss: 1298.5988 - val_mae: 32.5780\n",
            "Epoch 10/100\n",
            "13/13 [==============================] - 0s 5ms/step - loss: 1544.3561 - mae: 35.4274 - val_loss: 1278.8048 - val_mae: 32.2813\n",
            "Epoch 11/100\n",
            "13/13 [==============================] - 0s 5ms/step - loss: 1456.2904 - mae: 34.3630 - val_loss: 1255.9672 - val_mae: 31.9351\n",
            "Epoch 12/100\n",
            "13/13 [==============================] - 0s 5ms/step - loss: 1556.2861 - mae: 35.4305 - val_loss: 1232.3307 - val_mae: 31.5715\n",
            "Epoch 13/100\n",
            "13/13 [==============================] - 0s 5ms/step - loss: 1439.2645 - mae: 33.6865 - val_loss: 1206.6002 - val_mae: 31.1707\n",
            "Epoch 14/100\n",
            "13/13 [==============================] - 0s 5ms/step - loss: 1381.2872 - mae: 32.8217 - val_loss: 1177.5979 - val_mae: 30.7129\n",
            "Epoch 15/100\n",
            "13/13 [==============================] - 0s 5ms/step - loss: 1315.6834 - mae: 32.1412 - val_loss: 1145.0952 - val_mae: 30.1914\n",
            "Epoch 16/100\n",
            "13/13 [==============================] - 0s 5ms/step - loss: 1385.2322 - mae: 32.5670 - val_loss: 1111.1906 - val_mae: 29.6372\n",
            "Epoch 17/100\n",
            "13/13 [==============================] - 0s 5ms/step - loss: 1260.8839 - mae: 31.2274 - val_loss: 1072.2435 - val_mae: 28.9876\n",
            "Epoch 18/100\n",
            "13/13 [==============================] - 0s 4ms/step - loss: 1340.8412 - mae: 31.9073 - val_loss: 1032.0560 - val_mae: 28.3075\n",
            "Epoch 19/100\n",
            "13/13 [==============================] - 0s 5ms/step - loss: 1131.6034 - mae: 29.1131 - val_loss: 986.8384 - val_mae: 27.5290\n",
            "Epoch 20/100\n",
            "13/13 [==============================] - 0s 5ms/step - loss: 1167.5383 - mae: 29.3977 - val_loss: 941.8456 - val_mae: 26.7322\n",
            "Epoch 21/100\n",
            "13/13 [==============================] - 0s 5ms/step - loss: 1138.5956 - mae: 29.1103 - val_loss: 891.8782 - val_mae: 25.8183\n",
            "Epoch 22/100\n",
            "13/13 [==============================] - 0s 5ms/step - loss: 968.7852 - mae: 26.3607 - val_loss: 840.2650 - val_mae: 24.8375\n",
            "Epoch 23/100\n",
            "13/13 [==============================] - 0s 5ms/step - loss: 1051.7446 - mae: 27.6506 - val_loss: 787.0840 - val_mae: 23.7955\n",
            "Epoch 24/100\n",
            "13/13 [==============================] - 0s 5ms/step - loss: 921.4716 - mae: 25.5829 - val_loss: 733.5278 - val_mae: 22.7045\n",
            "Epoch 25/100\n",
            "13/13 [==============================] - 0s 5ms/step - loss: 914.1889 - mae: 24.8015 - val_loss: 679.6163 - val_mae: 21.5846\n",
            "Epoch 26/100\n",
            "13/13 [==============================] - 0s 5ms/step - loss: 804.5171 - mae: 23.5138 - val_loss: 623.7825 - val_mae: 20.4695\n",
            "Epoch 27/100\n",
            "13/13 [==============================] - 0s 5ms/step - loss: 771.6490 - mae: 22.4973 - val_loss: 570.5633 - val_mae: 19.3982\n",
            "Epoch 28/100\n",
            "13/13 [==============================] - 0s 5ms/step - loss: 747.3506 - mae: 22.1479 - val_loss: 513.7736 - val_mae: 18.2589\n",
            "Epoch 29/100\n",
            "13/13 [==============================] - 0s 5ms/step - loss: 763.2388 - mae: 22.2950 - val_loss: 459.5423 - val_mae: 17.1328\n",
            "Epoch 30/100\n",
            "13/13 [==============================] - 0s 5ms/step - loss: 696.7275 - mae: 21.4306 - val_loss: 408.4462 - val_mae: 16.0921\n",
            "Epoch 31/100\n",
            "13/13 [==============================] - 0s 5ms/step - loss: 731.3038 - mae: 21.5708 - val_loss: 373.9172 - val_mae: 15.3440\n",
            "Epoch 32/100\n",
            "13/13 [==============================] - 0s 5ms/step - loss: 615.3969 - mae: 19.9095 - val_loss: 344.5539 - val_mae: 14.6592\n",
            "Epoch 33/100\n",
            "13/13 [==============================] - 0s 5ms/step - loss: 645.1778 - mae: 20.4647 - val_loss: 333.2490 - val_mae: 14.4112\n",
            "Epoch 34/100\n",
            "13/13 [==============================] - 0s 5ms/step - loss: 648.6594 - mae: 20.6225 - val_loss: 306.1561 - val_mae: 13.8158\n",
            "Epoch 35/100\n",
            "13/13 [==============================] - 0s 5ms/step - loss: 692.5416 - mae: 21.1049 - val_loss: 291.2909 - val_mae: 13.4999\n",
            "Epoch 36/100\n",
            "13/13 [==============================] - 0s 5ms/step - loss: 547.6128 - mae: 19.1042 - val_loss: 293.5342 - val_mae: 13.5482\n",
            "Epoch 37/100\n",
            "13/13 [==============================] - 0s 5ms/step - loss: 525.6513 - mae: 18.6271 - val_loss: 290.9724 - val_mae: 13.4935\n",
            "Epoch 38/100\n",
            "13/13 [==============================] - 0s 5ms/step - loss: 594.7368 - mae: 19.3382 - val_loss: 282.0055 - val_mae: 13.2998\n",
            "Epoch 39/100\n",
            "13/13 [==============================] - 0s 5ms/step - loss: 661.9662 - mae: 19.9378 - val_loss: 287.1355 - val_mae: 13.4101\n",
            "Epoch 40/100\n",
            "13/13 [==============================] - 0s 5ms/step - loss: 609.6168 - mae: 19.6595 - val_loss: 280.6185 - val_mae: 13.2674\n",
            "Epoch 41/100\n",
            "13/13 [==============================] - 0s 5ms/step - loss: 615.1679 - mae: 19.8302 - val_loss: 268.6350 - val_mae: 13.0061\n",
            "Epoch 42/100\n",
            "13/13 [==============================] - 0s 5ms/step - loss: 620.4707 - mae: 19.5649 - val_loss: 268.8169 - val_mae: 13.0125\n",
            "Epoch 43/100\n",
            "13/13 [==============================] - 0s 5ms/step - loss: 531.0808 - mae: 18.1720 - val_loss: 258.4214 - val_mae: 12.7742\n",
            "Epoch 44/100\n",
            "13/13 [==============================] - 0s 5ms/step - loss: 582.8887 - mae: 19.4918 - val_loss: 259.4630 - val_mae: 12.7984\n",
            "Epoch 45/100\n",
            "13/13 [==============================] - 0s 5ms/step - loss: 562.4519 - mae: 19.0378 - val_loss: 264.0645 - val_mae: 12.9054\n",
            "Epoch 46/100\n",
            "13/13 [==============================] - 0s 5ms/step - loss: 586.3315 - mae: 19.5044 - val_loss: 261.6322 - val_mae: 12.8528\n",
            "Epoch 47/100\n",
            "13/13 [==============================] - 0s 5ms/step - loss: 462.4850 - mae: 17.2415 - val_loss: 257.2983 - val_mae: 12.7494\n",
            "Epoch 48/100\n",
            "13/13 [==============================] - 0s 5ms/step - loss: 485.6026 - mae: 17.5995 - val_loss: 248.5824 - val_mae: 12.5357\n",
            "Epoch 49/100\n",
            "13/13 [==============================] - 0s 5ms/step - loss: 489.5132 - mae: 17.2316 - val_loss: 256.7436 - val_mae: 12.7361\n",
            "Epoch 50/100\n",
            "13/13 [==============================] - 0s 5ms/step - loss: 607.1605 - mae: 19.2816 - val_loss: 260.5318 - val_mae: 12.8246\n",
            "Epoch 51/100\n",
            "13/13 [==============================] - 0s 5ms/step - loss: 586.0353 - mae: 19.3238 - val_loss: 258.0060 - val_mae: 12.7674\n",
            "Epoch 52/100\n",
            "13/13 [==============================] - 0s 5ms/step - loss: 524.3878 - mae: 18.0781 - val_loss: 268.3031 - val_mae: 13.0061\n",
            "Epoch 53/100\n",
            "13/13 [==============================] - 0s 5ms/step - loss: 555.0940 - mae: 18.9591 - val_loss: 272.3981 - val_mae: 13.1003\n",
            "Epoch 54/100\n",
            "13/13 [==============================] - 0s 5ms/step - loss: 482.6046 - mae: 17.3655 - val_loss: 266.2177 - val_mae: 12.9640\n",
            "Epoch 55/100\n",
            "13/13 [==============================] - 0s 6ms/step - loss: 497.5712 - mae: 17.5781 - val_loss: 271.0622 - val_mae: 13.0740\n",
            "Epoch 56/100\n",
            "13/13 [==============================] - 0s 5ms/step - loss: 542.0854 - mae: 18.6666 - val_loss: 270.7788 - val_mae: 13.0670\n",
            "Epoch 57/100\n",
            "13/13 [==============================] - 0s 5ms/step - loss: 549.0950 - mae: 18.7775 - val_loss: 256.0412 - val_mae: 12.7281\n",
            "Epoch 58/100\n",
            "13/13 [==============================] - 0s 5ms/step - loss: 466.1862 - mae: 17.1055 - val_loss: 248.9690 - val_mae: 12.5619\n",
            "Epoch 59/100\n",
            "13/13 [==============================] - 0s 5ms/step - loss: 508.5425 - mae: 17.9427 - val_loss: 249.7578 - val_mae: 12.5839\n",
            "Epoch 60/100\n",
            "13/13 [==============================] - 0s 5ms/step - loss: 462.4034 - mae: 16.8528 - val_loss: 240.1506 - val_mae: 12.3544\n",
            "Epoch 61/100\n",
            "13/13 [==============================] - 0s 5ms/step - loss: 454.0056 - mae: 16.9359 - val_loss: 237.3617 - val_mae: 12.2922\n",
            "Epoch 62/100\n",
            "13/13 [==============================] - 0s 5ms/step - loss: 461.0114 - mae: 17.3138 - val_loss: 244.8670 - val_mae: 12.4670\n",
            "Epoch 63/100\n",
            "13/13 [==============================] - 0s 5ms/step - loss: 530.4328 - mae: 18.4459 - val_loss: 251.4790 - val_mae: 12.6254\n",
            "Epoch 64/100\n",
            "13/13 [==============================] - 0s 5ms/step - loss: 416.4790 - mae: 15.9311 - val_loss: 235.2134 - val_mae: 12.2415\n",
            "Epoch 65/100\n",
            "13/13 [==============================] - 0s 5ms/step - loss: 462.1796 - mae: 17.1341 - val_loss: 232.3626 - val_mae: 12.1749\n",
            "Epoch 66/100\n",
            "13/13 [==============================] - 0s 5ms/step - loss: 493.9447 - mae: 17.6194 - val_loss: 229.0437 - val_mae: 12.0962\n",
            "Epoch 67/100\n",
            "13/13 [==============================] - 0s 5ms/step - loss: 487.2677 - mae: 17.7022 - val_loss: 228.7514 - val_mae: 12.0888\n",
            "Epoch 68/100\n",
            "13/13 [==============================] - 0s 6ms/step - loss: 429.9758 - mae: 16.4491 - val_loss: 227.8806 - val_mae: 12.0684\n",
            "Epoch 69/100\n",
            "13/13 [==============================] - 0s 5ms/step - loss: 469.1253 - mae: 17.0163 - val_loss: 232.2847 - val_mae: 12.1730\n",
            "Epoch 70/100\n",
            "13/13 [==============================] - 0s 5ms/step - loss: 431.8588 - mae: 16.9614 - val_loss: 236.2291 - val_mae: 12.2675\n",
            "Epoch 71/100\n",
            "13/13 [==============================] - 0s 5ms/step - loss: 428.1097 - mae: 16.1456 - val_loss: 244.6485 - val_mae: 12.4646\n",
            "Epoch 72/100\n",
            "13/13 [==============================] - 0s 5ms/step - loss: 517.6985 - mae: 17.7648 - val_loss: 252.2977 - val_mae: 12.6507\n",
            "Epoch 73/100\n",
            "13/13 [==============================] - 0s 5ms/step - loss: 445.4844 - mae: 16.8380 - val_loss: 246.5810 - val_mae: 12.5115\n",
            "Epoch 74/100\n",
            "13/13 [==============================] - 0s 5ms/step - loss: 415.7168 - mae: 16.0350 - val_loss: 245.5247 - val_mae: 12.4871\n",
            "Epoch 75/100\n",
            "13/13 [==============================] - 0s 5ms/step - loss: 474.9366 - mae: 17.4747 - val_loss: 238.4469 - val_mae: 12.3155\n",
            "Epoch 76/100\n",
            "13/13 [==============================] - 0s 5ms/step - loss: 405.1989 - mae: 16.2478 - val_loss: 230.2372 - val_mae: 12.1214\n",
            "Epoch 77/100\n",
            "13/13 [==============================] - 0s 5ms/step - loss: 395.4464 - mae: 15.8091 - val_loss: 227.7011 - val_mae: 12.0586\n",
            "Epoch 78/100\n",
            "13/13 [==============================] - 0s 5ms/step - loss: 371.9118 - mae: 14.8788 - val_loss: 214.2380 - val_mae: 11.7354\n",
            "Epoch 79/100\n",
            "13/13 [==============================] - 0s 5ms/step - loss: 355.7632 - mae: 14.9337 - val_loss: 214.0323 - val_mae: 11.7296\n",
            "Epoch 80/100\n",
            "13/13 [==============================] - 0s 5ms/step - loss: 386.4867 - mae: 15.7185 - val_loss: 216.6251 - val_mae: 11.7917\n",
            "Epoch 81/100\n",
            "13/13 [==============================] - 0s 5ms/step - loss: 381.1930 - mae: 15.7630 - val_loss: 215.8867 - val_mae: 11.7709\n",
            "Epoch 82/100\n",
            "13/13 [==============================] - 0s 5ms/step - loss: 424.2672 - mae: 15.6249 - val_loss: 220.5628 - val_mae: 11.8774\n",
            "Epoch 83/100\n",
            "13/13 [==============================] - 0s 5ms/step - loss: 405.2121 - mae: 16.0936 - val_loss: 218.6662 - val_mae: 11.8291\n",
            "Epoch 84/100\n",
            "13/13 [==============================] - 0s 5ms/step - loss: 443.2992 - mae: 16.2149 - val_loss: 220.9262 - val_mae: 11.8812\n",
            "Epoch 85/100\n",
            "13/13 [==============================] - 0s 5ms/step - loss: 384.9952 - mae: 15.8683 - val_loss: 220.0645 - val_mae: 11.8581\n",
            "Epoch 86/100\n",
            "13/13 [==============================] - 0s 7ms/step - loss: 359.6817 - mae: 14.9363 - val_loss: 217.6751 - val_mae: 11.7952\n",
            "Epoch 87/100\n",
            "13/13 [==============================] - 0s 5ms/step - loss: 436.1170 - mae: 16.3153 - val_loss: 216.4469 - val_mae: 11.7638\n",
            "Epoch 88/100\n",
            "13/13 [==============================] - 0s 5ms/step - loss: 364.6985 - mae: 14.6748 - val_loss: 206.7790 - val_mae: 11.5272\n",
            "Epoch 89/100\n",
            "13/13 [==============================] - 0s 5ms/step - loss: 376.3122 - mae: 15.5911 - val_loss: 207.5839 - val_mae: 11.5435\n",
            "Epoch 90/100\n",
            "13/13 [==============================] - 0s 5ms/step - loss: 395.9283 - mae: 15.6803 - val_loss: 222.3939 - val_mae: 11.9048\n",
            "Epoch 91/100\n",
            "13/13 [==============================] - 0s 5ms/step - loss: 427.3509 - mae: 16.6927 - val_loss: 213.8991 - val_mae: 11.6889\n",
            "Epoch 92/100\n",
            "13/13 [==============================] - 0s 5ms/step - loss: 389.9204 - mae: 15.4799 - val_loss: 204.0284 - val_mae: 11.4459\n",
            "Epoch 93/100\n",
            "13/13 [==============================] - 0s 5ms/step - loss: 384.1175 - mae: 15.4712 - val_loss: 200.8122 - val_mae: 11.3633\n",
            "Epoch 94/100\n",
            "13/13 [==============================] - 0s 5ms/step - loss: 333.2759 - mae: 14.2221 - val_loss: 203.4101 - val_mae: 11.4277\n",
            "Epoch 95/100\n",
            "13/13 [==============================] - 0s 5ms/step - loss: 390.1622 - mae: 15.6416 - val_loss: 200.6724 - val_mae: 11.3559\n",
            "Epoch 96/100\n",
            "13/13 [==============================] - 0s 5ms/step - loss: 384.7002 - mae: 15.1785 - val_loss: 198.4471 - val_mae: 11.3034\n",
            "Epoch 97/100\n",
            "13/13 [==============================] - 0s 5ms/step - loss: 383.3012 - mae: 15.4521 - val_loss: 201.1740 - val_mae: 11.3601\n",
            "Epoch 98/100\n",
            "13/13 [==============================] - 0s 5ms/step - loss: 448.9159 - mae: 16.9794 - val_loss: 202.5463 - val_mae: 11.3879\n",
            "Epoch 99/100\n",
            "13/13 [==============================] - 0s 5ms/step - loss: 364.3369 - mae: 14.7730 - val_loss: 206.8765 - val_mae: 11.4925\n",
            "Epoch 100/100\n",
            "13/13 [==============================] - 0s 5ms/step - loss: 373.8657 - mae: 15.4281 - val_loss: 203.6349 - val_mae: 11.4079\n"
          ],
          "name": "stdout"
        }
      ]
    },
    {
      "cell_type": "markdown",
      "metadata": {
        "id": "PBtpA70zy2KM"
      },
      "source": [
        "## Prediction"
      ]
    },
    {
      "cell_type": "code",
      "metadata": {
        "id": "yc53IW7-qg2q"
      },
      "source": [
        "pred = clf.predict(X_test)"
      ],
      "execution_count": null,
      "outputs": []
    },
    {
      "cell_type": "markdown",
      "metadata": {
        "id": "AboMChTfy05U"
      },
      "source": [
        "## Evaluation"
      ]
    },
    {
      "cell_type": "code",
      "metadata": {
        "colab": {
          "base_uri": "https://localhost:8080/"
        },
        "id": "7824SHI9zwIL",
        "outputId": "738ff3d1-29c2-4f07-96ff-6bbd7aa81f60"
      },
      "source": [
        "mse_score, mae_score = clf.evaluate(X_test, y_test)"
      ],
      "execution_count": null,
      "outputs": [
        {
          "output_type": "stream",
          "text": [
            "17/17 [==============================] - 0s 1ms/step - loss: 229.4629 - mae: 11.8483\n"
          ],
          "name": "stdout"
        }
      ]
    },
    {
      "cell_type": "code",
      "metadata": {
        "colab": {
          "base_uri": "https://localhost:8080/"
        },
        "id": "hyEZKCV8zohM",
        "outputId": "065f01ff-d39b-4740-a188-25f75d2cadf9"
      },
      "source": [
        "# MSE Score\n",
        "mse_score"
      ],
      "execution_count": null,
      "outputs": [
        {
          "output_type": "execute_result",
          "data": {
            "text/plain": [
              "229.462890625"
            ]
          },
          "metadata": {
            "tags": []
          },
          "execution_count": 25
        }
      ]
    },
    {
      "cell_type": "code",
      "metadata": {
        "colab": {
          "base_uri": "https://localhost:8080/"
        },
        "id": "OeQiJvxJzrMb",
        "outputId": "d1720c31-96bd-4f37-a18a-4f8db3943ec9"
      },
      "source": [
        "# MAE Score\n",
        "mae_score"
      ],
      "execution_count": null,
      "outputs": [
        {
          "output_type": "execute_result",
          "data": {
            "text/plain": [
              "11.848328590393066"
            ]
          },
          "metadata": {
            "tags": []
          },
          "execution_count": 26
        }
      ]
    },
    {
      "cell_type": "code",
      "metadata": {
        "colab": {
          "base_uri": "https://localhost:8080/",
          "height": 295
        },
        "id": "gRGaOeoTzKQc",
        "outputId": "efef4855-5e18-4083-ff0c-1af25ee031b8"
      },
      "source": [
        "# Plot training & validation accuracy values\n",
        "plt.plot(history.history['loss'])\n",
        "plt.plot(history.history['val_loss'])\n",
        "plt.title('Model loss')\n",
        "plt.ylabel('Loss')\n",
        "plt.xlabel('Epoch')\n",
        "plt.legend(['Train', 'Test'], loc='upper left')\n",
        "plt.show()"
      ],
      "execution_count": null,
      "outputs": [
        {
          "output_type": "display_data",
          "data": {
            "image/png": "[encoded data removed]",
            "text/plain": [
              "<Figure size 432x288 with 1 Axes>"
            ]
          },
          "metadata": {
            "tags": [],
            "needs_background": "light"
          }
        }
      ]
    }
  ]
}